{
 "cells": [
  {
   "cell_type": "markdown",
   "metadata": {},
   "source": [
    "### Author: Chan Nok Lam        ,                                                                             Date: 2016-07-27"
   ]
  },
  {
   "cell_type": "markdown",
   "metadata": {},
   "source": [
    "#### A PDF or HTML file containing your analysis. This file should include:\n",
    "\n",
    "A note specifying which dataset you analyzed\n",
    "\n",
    "A statement of the question(s) you posed\n",
    "\n",
    "A description of what you did to investigate those questions\n",
    "\n",
    "Documentation of any data wrangling you did\n",
    "\n",
    "Summary statistics and plots communicating your final results\n",
    "Code you used to perform your analysis. If you used an iPython notebook, you can submit your .ipynb. Otherwise, you should submit the code separately in .py file(s).\n",
    "A list of Web sites, books, forums, blog posts, github repositories, etc. that you referred to or used in creating your submission (add N/A if you did not use any such resources)."
   ]
  },
  {
   "cell_type": "code",
   "execution_count": 17,
   "metadata": {
    "collapsed": true
   },
   "outputs": [],
   "source": [
    "import numpy as np\n",
    "import pandas as pd\n",
    "import matplotlib.pyplot as plt\n",
    "import csv\n",
    "%matplotlib inline"
   ]
  },
  {
   "cell_type": "code",
   "execution_count": 3,
   "metadata": {
    "collapsed": true
   },
   "outputs": [],
   "source": [
    "### \n",
    "### Dataset : Titanic\n",
    "\n"
   ]
  },
  {
   "cell_type": "raw",
   "metadata": {},
   "source": [
    "### Data Description from Kaggle\n",
    "\n",
    "VARIABLE DESCRIPTIONS:\n",
    "survival        Survival\n",
    "                (0 = No; 1 = Yes)\n",
    "pclass          Passenger Class\n",
    "                (1 = 1st; 2 = 2nd; 3 = 3rd)\n",
    "name            Name\n",
    "sex             Sex\n",
    "age             Age\n",
    "sibsp           Number of Siblings/Spouses Aboard\n",
    "parch           Number of Parents/Children Aboard\n",
    "ticket          Ticket Number\n",
    "fare            Passenger Fare\n",
    "cabin           Cabin\n",
    "embarked        Port of Embarkation\n",
    "                (C = Cherbourg; Q = Queenstown; S = Southampton)\n",
    "\n",
    "SPECIAL NOTES:\n",
    "Pclass is a proxy for socio-economic status (SES)\n",
    " 1st ~ Upper; 2nd ~ Middle; 3rd ~ Lower\n",
    "\n",
    "Age is in Years; Fractional if Age less than One (1)\n",
    " If the Age is Estimated, it is in the form xx.5\n",
    "\n",
    "With respect to the family relation variables (i.e. sibsp and parch)\n",
    "some relations were ignored.  The following are the definitions used\n",
    "for sibsp and parch.\n",
    "\n",
    "Sibling:  Brother, Sister, Stepbrother, or Stepsister of Passenger Aboard Titanic\n",
    "Spouse:   Husband or Wife of Passenger Aboard Titanic (Mistresses and Fiances Ignored)\n",
    "Parent:   Mother or Father of Passenger Aboard Titanic\n",
    "Child:    Son, Daughter, Stepson, or Stepdaughter of Passenger Aboard Titanic\n",
    "\n",
    "Other family relatives excluded from this study include cousins,\n",
    "nephews/nieces, aunts/uncles, and in-laws.  Some children travelled\n",
    "only with a nanny, therefore parch=0 for them.  As well, some\n",
    "travelled with very close friends or neighbors in a village, however,\n",
    "the definitions do not support such relations."
   ]
  },
  {
   "cell_type": "markdown",
   "metadata": {},
   "source": [
    "### Questions\n",
    "Titanic Data\n",
    "What factors made people more likely to survive??  Does people take 1st class have a higher survival rate? does the fare affect the survival rate?"
   ]
  },
  {
   "cell_type": "code",
   "execution_count": 4,
   "metadata": {
    "collapsed": false
   },
   "outputs": [],
   "source": [
    "file_name = 'titanic_data.csv'\n",
    "df=pd.read_csv(file_name)\n",
    "\n",
    "### Read the csv file as pandas.dataframe.\n",
    "\n",
    "\n"
   ]
  },
  {
   "cell_type": "code",
   "execution_count": 5,
   "metadata": {
    "collapsed": false
   },
   "outputs": [
    {
     "data": {
      "text/html": [
       "<div>\n",
       "<table border=\"1\" class=\"dataframe\">\n",
       "  <thead>\n",
       "    <tr style=\"text-align: right;\">\n",
       "      <th></th>\n",
       "      <th>PassengerId</th>\n",
       "      <th>Survived</th>\n",
       "      <th>Pclass</th>\n",
       "      <th>Name</th>\n",
       "      <th>Sex</th>\n",
       "      <th>Age</th>\n",
       "      <th>SibSp</th>\n",
       "      <th>Parch</th>\n",
       "      <th>Ticket</th>\n",
       "      <th>Fare</th>\n",
       "      <th>Cabin</th>\n",
       "      <th>Embarked</th>\n",
       "    </tr>\n",
       "  </thead>\n",
       "  <tbody>\n",
       "    <tr>\n",
       "      <th>0</th>\n",
       "      <td>1</td>\n",
       "      <td>0</td>\n",
       "      <td>3</td>\n",
       "      <td>Braund, Mr. Owen Harris</td>\n",
       "      <td>male</td>\n",
       "      <td>22.0</td>\n",
       "      <td>1</td>\n",
       "      <td>0</td>\n",
       "      <td>A/5 21171</td>\n",
       "      <td>7.2500</td>\n",
       "      <td>NaN</td>\n",
       "      <td>S</td>\n",
       "    </tr>\n",
       "    <tr>\n",
       "      <th>1</th>\n",
       "      <td>2</td>\n",
       "      <td>1</td>\n",
       "      <td>1</td>\n",
       "      <td>Cumings, Mrs. John Bradley (Florence Briggs Th...</td>\n",
       "      <td>female</td>\n",
       "      <td>38.0</td>\n",
       "      <td>1</td>\n",
       "      <td>0</td>\n",
       "      <td>PC 17599</td>\n",
       "      <td>71.2833</td>\n",
       "      <td>C85</td>\n",
       "      <td>C</td>\n",
       "    </tr>\n",
       "    <tr>\n",
       "      <th>2</th>\n",
       "      <td>3</td>\n",
       "      <td>1</td>\n",
       "      <td>3</td>\n",
       "      <td>Heikkinen, Miss. Laina</td>\n",
       "      <td>female</td>\n",
       "      <td>26.0</td>\n",
       "      <td>0</td>\n",
       "      <td>0</td>\n",
       "      <td>STON/O2. 3101282</td>\n",
       "      <td>7.9250</td>\n",
       "      <td>NaN</td>\n",
       "      <td>S</td>\n",
       "    </tr>\n",
       "    <tr>\n",
       "      <th>3</th>\n",
       "      <td>4</td>\n",
       "      <td>1</td>\n",
       "      <td>1</td>\n",
       "      <td>Futrelle, Mrs. Jacques Heath (Lily May Peel)</td>\n",
       "      <td>female</td>\n",
       "      <td>35.0</td>\n",
       "      <td>1</td>\n",
       "      <td>0</td>\n",
       "      <td>113803</td>\n",
       "      <td>53.1000</td>\n",
       "      <td>C123</td>\n",
       "      <td>S</td>\n",
       "    </tr>\n",
       "    <tr>\n",
       "      <th>4</th>\n",
       "      <td>5</td>\n",
       "      <td>0</td>\n",
       "      <td>3</td>\n",
       "      <td>Allen, Mr. William Henry</td>\n",
       "      <td>male</td>\n",
       "      <td>35.0</td>\n",
       "      <td>0</td>\n",
       "      <td>0</td>\n",
       "      <td>373450</td>\n",
       "      <td>8.0500</td>\n",
       "      <td>NaN</td>\n",
       "      <td>S</td>\n",
       "    </tr>\n",
       "  </tbody>\n",
       "</table>\n",
       "</div>"
      ],
      "text/plain": [
       "   PassengerId  Survived  Pclass  \\\n",
       "0            1         0       3   \n",
       "1            2         1       1   \n",
       "2            3         1       3   \n",
       "3            4         1       1   \n",
       "4            5         0       3   \n",
       "\n",
       "                                                Name     Sex   Age  SibSp  \\\n",
       "0                            Braund, Mr. Owen Harris    male  22.0      1   \n",
       "1  Cumings, Mrs. John Bradley (Florence Briggs Th...  female  38.0      1   \n",
       "2                             Heikkinen, Miss. Laina  female  26.0      0   \n",
       "3       Futrelle, Mrs. Jacques Heath (Lily May Peel)  female  35.0      1   \n",
       "4                           Allen, Mr. William Henry    male  35.0      0   \n",
       "\n",
       "   Parch            Ticket     Fare Cabin Embarked  \n",
       "0      0         A/5 21171   7.2500   NaN        S  \n",
       "1      0          PC 17599  71.2833   C85        C  \n",
       "2      0  STON/O2. 3101282   7.9250   NaN        S  \n",
       "3      0            113803  53.1000  C123        S  \n",
       "4      0            373450   8.0500   NaN        S  "
      ]
     },
     "execution_count": 5,
     "metadata": {},
     "output_type": "execute_result"
    }
   ],
   "source": [
    "df.head()"
   ]
  },
  {
   "cell_type": "code",
   "execution_count": 6,
   "metadata": {
    "collapsed": false
   },
   "outputs": [
    {
     "name": "stderr",
     "output_type": "stream",
     "text": [
      "C:\\Users\\NokMan\\Anaconda2\\lib\\site-packages\\numpy\\lib\\function_base.py:3823: RuntimeWarning: Invalid value encountered in percentile\n",
      "  RuntimeWarning)\n"
     ]
    }
   ],
   "source": [
    "df.describe()\n",
    "### There is some NaN data in Age, I am going to check what does it mean.\n",
    "df.replace(to_replace='NaN', value=np.nan, inplace=True)"
   ]
  },
  {
   "cell_type": "code",
   "execution_count": 7,
   "metadata": {
    "collapsed": false
   },
   "outputs": [
    {
     "data": {
      "text/plain": [
       "PassengerId      0\n",
       "Survived         0\n",
       "Pclass           0\n",
       "Name             0\n",
       "Sex              0\n",
       "Age            177\n",
       "SibSp            0\n",
       "Parch            0\n",
       "Ticket           0\n",
       "Fare             0\n",
       "Cabin          687\n",
       "Embarked         2\n",
       "dtype: int64"
      ]
     },
     "execution_count": 7,
     "metadata": {},
     "output_type": "execute_result"
    }
   ],
   "source": [
    "### To check how many data is not available\n",
    "### for manually looking on the data, NaN in Age column seems really mean missing data not age 0.\n",
    "df.isnull().sum()"
   ]
  },
  {
   "cell_type": "code",
   "execution_count": 11,
   "metadata": {
    "collapsed": false
   },
   "outputs": [
    {
     "data": {
      "text/plain": [
       "0              NaN\n",
       "1              C85\n",
       "2              NaN\n",
       "3             C123\n",
       "4              NaN\n",
       "5              NaN\n",
       "6              E46\n",
       "7              NaN\n",
       "8              NaN\n",
       "9              NaN\n",
       "10              G6\n",
       "11            C103\n",
       "12             NaN\n",
       "13             NaN\n",
       "14             NaN\n",
       "15             NaN\n",
       "16             NaN\n",
       "17             NaN\n",
       "18             NaN\n",
       "19             NaN\n",
       "20             NaN\n",
       "21             D56\n",
       "22             NaN\n",
       "23              A6\n",
       "24             NaN\n",
       "25             NaN\n",
       "26             NaN\n",
       "27     C23 C25 C27\n",
       "28             NaN\n",
       "29             NaN\n",
       "          ...     \n",
       "861            NaN\n",
       "862            D17\n",
       "863            NaN\n",
       "864            NaN\n",
       "865            NaN\n",
       "866            NaN\n",
       "867            A24\n",
       "868            NaN\n",
       "869            NaN\n",
       "870            NaN\n",
       "871            D35\n",
       "872    B51 B53 B55\n",
       "873            NaN\n",
       "874            NaN\n",
       "875            NaN\n",
       "876            NaN\n",
       "877            NaN\n",
       "878            NaN\n",
       "879            C50\n",
       "880            NaN\n",
       "881            NaN\n",
       "882            NaN\n",
       "883            NaN\n",
       "884            NaN\n",
       "885            NaN\n",
       "886            NaN\n",
       "887            B42\n",
       "888            NaN\n",
       "889           C148\n",
       "890            NaN\n",
       "Name: Cabin, dtype: object"
      ]
     },
     "execution_count": 11,
     "metadata": {},
     "output_type": "execute_result"
    }
   ],
   "source": [
    "## Since Cabin has almost all NaN value, I will ignore it for this project as it could not provide any information.\n",
    "## I have keep the field\"Age\" since the missing data only account for a small proportion. I ignore the NaN data for the analysis."
   ]
  },
  {
   "cell_type": "code",
   "execution_count": 9,
   "metadata": {
    "collapsed": false
   },
   "outputs": [],
   "source": [
    "df=df.drop('PassengerId',axis=1)"
   ]
  },
  {
   "cell_type": "code",
   "execution_count": 10,
   "metadata": {
    "collapsed": false
   },
   "outputs": [],
   "source": [
    "## I focus on the correlation with \"Survived\" as this is the most important variable in the dataset. Its seems have a strongest\n",
    "## negative correlation with Pclass  and positive correlation with Fare. It is worth to mention \"PClass\" is a categorial value, \n",
    "## 1st class take value of 1,2nd class is 2, 3rd class is 3. It may not be the perfect way to correlate a categorial variable \n",
    "## with continous variable, yet it can still demonstrate the negative correlation they have.\n",
    "\n",
    "## The relation can be interpretd as people in 3rd class are more vulnerable to death, while people who have a high fare is less\n",
    "## vulnerable to death. I will explore the relation between these 3 variables later.\n"
   ]
  },
  {
   "cell_type": "code",
   "execution_count": 175,
   "metadata": {
    "collapsed": false
   },
   "outputs": [
    {
     "data": {
      "text/plain": [
       "<matplotlib.text.Text at 0x257a1d30>"
      ]
     },
     "execution_count": 175,
     "metadata": {},
     "output_type": "execute_result"
    },
    {
     "data": {
      "image/png": "[encoded data removed]",
      "text/plain": [
       "<matplotlib.figure.Figure at 0x256ee780>"
      ]
     },
     "metadata": {},
     "output_type": "display_data"
    }
   ],
   "source": [
    "## I want to explore the distribution of the data\n",
    "df.Age.hist()\n",
    "plt.xlabel('Age')\n",
    "plt.ylabel('Freqeuncy')\n",
    "plt.title('Histogram of Age')\n",
    "## The data is relatively normal, not obvious outlier exist.\n",
    "\n"
   ]
  },
  {
   "cell_type": "markdown",
   "metadata": {},
   "source": [
    "### From the above histogram, I learn some facts about the data. More people die than survive in this dataset. Most of the people lie between around 18 to 32 years old and most of the people are taking the 3rd class."
   ]
  },
  {
   "cell_type": "code",
   "execution_count": 173,
   "metadata": {
    "collapsed": false
   },
   "outputs": [
    {
     "data": {
      "text/plain": [
       "<matplotlib.text.Text at 0x254fa7b8>"
      ]
     },
     "execution_count": 173,
     "metadata": {},
     "output_type": "execute_result"
    },
    {
     "data": {
      "image/png": "[encoded data removed]",
      "text/plain": [
       "<matplotlib.figure.Figure at 0x25324ac8>"
      ]
     },
     "metadata": {},
     "output_type": "display_data"
    }
   ],
   "source": [
    "df.Fare.hist() ## Since some outlier exist, a log transfer may \n",
    "plt.xlabel('Fare')\n",
    "plt.ylabel('Freqeuncy')\n",
    "plt.title('Histogram of Fare')"
   ]
  },
  {
   "cell_type": "code",
   "execution_count": 8,
   "metadata": {
    "collapsed": false
   },
   "outputs": [
    {
     "data": {
      "text/html": [
       "<div>\n",
       "<table border=\"1\" class=\"dataframe\">\n",
       "  <thead>\n",
       "    <tr style=\"text-align: right;\">\n",
       "      <th></th>\n",
       "      <th>PassengerId</th>\n",
       "      <th>Survived</th>\n",
       "      <th>Pclass</th>\n",
       "      <th>Age</th>\n",
       "      <th>SibSp</th>\n",
       "      <th>Parch</th>\n",
       "      <th>Fare</th>\n",
       "    </tr>\n",
       "  </thead>\n",
       "  <tbody>\n",
       "    <tr>\n",
       "      <th>PassengerId</th>\n",
       "      <td>1.000000</td>\n",
       "      <td>-0.005007</td>\n",
       "      <td>-0.035144</td>\n",
       "      <td>0.036847</td>\n",
       "      <td>-0.057527</td>\n",
       "      <td>-0.001652</td>\n",
       "      <td>0.012658</td>\n",
       "    </tr>\n",
       "    <tr>\n",
       "      <th>Survived</th>\n",
       "      <td>-0.005007</td>\n",
       "      <td>1.000000</td>\n",
       "      <td>-0.338481</td>\n",
       "      <td>-0.077221</td>\n",
       "      <td>-0.035322</td>\n",
       "      <td>0.081629</td>\n",
       "      <td>0.257307</td>\n",
       "    </tr>\n",
       "    <tr>\n",
       "      <th>Pclass</th>\n",
       "      <td>-0.035144</td>\n",
       "      <td>-0.338481</td>\n",
       "      <td>1.000000</td>\n",
       "      <td>-0.369226</td>\n",
       "      <td>0.083081</td>\n",
       "      <td>0.018443</td>\n",
       "      <td>-0.549500</td>\n",
       "    </tr>\n",
       "    <tr>\n",
       "      <th>Age</th>\n",
       "      <td>0.036847</td>\n",
       "      <td>-0.077221</td>\n",
       "      <td>-0.369226</td>\n",
       "      <td>1.000000</td>\n",
       "      <td>-0.308247</td>\n",
       "      <td>-0.189119</td>\n",
       "      <td>0.096067</td>\n",
       "    </tr>\n",
       "    <tr>\n",
       "      <th>SibSp</th>\n",
       "      <td>-0.057527</td>\n",
       "      <td>-0.035322</td>\n",
       "      <td>0.083081</td>\n",
       "      <td>-0.308247</td>\n",
       "      <td>1.000000</td>\n",
       "      <td>0.414838</td>\n",
       "      <td>0.159651</td>\n",
       "    </tr>\n",
       "    <tr>\n",
       "      <th>Parch</th>\n",
       "      <td>-0.001652</td>\n",
       "      <td>0.081629</td>\n",
       "      <td>0.018443</td>\n",
       "      <td>-0.189119</td>\n",
       "      <td>0.414838</td>\n",
       "      <td>1.000000</td>\n",
       "      <td>0.216225</td>\n",
       "    </tr>\n",
       "    <tr>\n",
       "      <th>Fare</th>\n",
       "      <td>0.012658</td>\n",
       "      <td>0.257307</td>\n",
       "      <td>-0.549500</td>\n",
       "      <td>0.096067</td>\n",
       "      <td>0.159651</td>\n",
       "      <td>0.216225</td>\n",
       "      <td>1.000000</td>\n",
       "    </tr>\n",
       "  </tbody>\n",
       "</table>\n",
       "</div>"
      ],
      "text/plain": [
       "             PassengerId  Survived    Pclass       Age     SibSp     Parch  \\\n",
       "PassengerId     1.000000 -0.005007 -0.035144  0.036847 -0.057527 -0.001652   \n",
       "Survived       -0.005007  1.000000 -0.338481 -0.077221 -0.035322  0.081629   \n",
       "Pclass         -0.035144 -0.338481  1.000000 -0.369226  0.083081  0.018443   \n",
       "Age             0.036847 -0.077221 -0.369226  1.000000 -0.308247 -0.189119   \n",
       "SibSp          -0.057527 -0.035322  0.083081 -0.308247  1.000000  0.414838   \n",
       "Parch          -0.001652  0.081629  0.018443 -0.189119  0.414838  1.000000   \n",
       "Fare            0.012658  0.257307 -0.549500  0.096067  0.159651  0.216225   \n",
       "\n",
       "                 Fare  \n",
       "PassengerId  0.012658  \n",
       "Survived     0.257307  \n",
       "Pclass      -0.549500  \n",
       "Age          0.096067  \n",
       "SibSp        0.159651  \n",
       "Parch        0.216225  \n",
       "Fare         1.000000  "
      ]
     },
     "execution_count": 8,
     "metadata": {},
     "output_type": "execute_result"
    }
   ],
   "source": [
    "### Correlation matrix for each variable.\n",
    "df.corr()\n",
    "### PassengerID is not useful I think in this case, therefore I will remove it.\n"
   ]
  },
  {
   "cell_type": "code",
   "execution_count": 69,
   "metadata": {
    "collapsed": false
   },
   "outputs": [
    {
     "data": {
      "text/plain": [
       "<matplotlib.text.Text at 0x1a2ec908>"
      ]
     },
     "execution_count": 69,
     "metadata": {},
     "output_type": "execute_result"
    },
    {
     "data": {
      "image/png": "[encoded data removed]",
      "text/plain": [
       "<matplotlib.figure.Figure at 0x19db8a20>"
      ]
     },
     "metadata": {},
     "output_type": "display_data"
    }
   ],
   "source": [
    "## I then start to explore the relation between Survived, Pclass and Fare\n",
    "## Survived vs Pclass\n",
    "seaborn.barplot(x='Pclass',y='Survived',data=df,estimator=sum,ci=0)\n",
    "plt.ylabel('Numbers of Survived Passengers')\n",
    "plt.title('Survived Passengers in different Passengers Classes')\n",
    "### This plot show the survived passengers in different classes, it seems that class 1 has the largest numbers of survival, \n",
    "# however, the number is not normalized since each classes has different number of passengers, it will be more easy to judge if\n",
    "## percentage is shown instead of absolute number."
   ]
  },
  {
   "cell_type": "code",
   "execution_count": 132,
   "metadata": {
    "collapsed": false
   },
   "outputs": [
    {
     "data": {
      "text/plain": [
       "Pclass       \n",
       "1       count    216.000000\n",
       "        mean       0.629630\n",
       "        std        0.484026\n",
       "        min        0.000000\n",
       "        25%        0.000000\n",
       "        50%        1.000000\n",
       "        75%        1.000000\n",
       "        max        1.000000\n",
       "2       count    184.000000\n",
       "        mean       0.472826\n",
       "        std        0.500623\n",
       "        min        0.000000\n",
       "        25%        0.000000\n",
       "        50%        0.000000\n",
       "        75%        1.000000\n",
       "        max        1.000000\n",
       "3       count    491.000000\n",
       "        mean       0.242363\n",
       "        std        0.428949\n",
       "        min        0.000000\n",
       "        25%        0.000000\n",
       "        50%        0.000000\n",
       "        75%        0.000000\n",
       "        max        1.000000\n",
       "Name: Survived, dtype: float64"
      ]
     },
     "execution_count": 132,
     "metadata": {},
     "output_type": "execute_result"
    }
   ],
   "source": [
    "df.groupby(['Pclass']).Survived.describe()\n"
   ]
  },
  {
   "cell_type": "code",
   "execution_count": 139,
   "metadata": {
    "collapsed": false
   },
   "outputs": [
    {
     "data": {
      "text/plain": [
       "<matplotlib.text.Text at 0x20cc1eb8>"
      ]
     },
     "execution_count": 139,
     "metadata": {},
     "output_type": "execute_result"
    },
    {
     "data": {
      "image/png": "[encoded data removed]",
      "text/plain": [
       "<matplotlib.figure.Figure at 0x21cc03c8>"
      ]
     },
     "metadata": {},
     "output_type": "display_data"
    }
   ],
   "source": [
    "seaborn.barplot(x='Pclass',y='Survived',data=df,ci=0, estimator=lambda x: sum(x)*1.0/len(x)*100)## show the relative percentages in each bin\n",
    "plt.ylabel('Percentage of Survived Passengers (%)')\n",
    "plt.title('Survived Percentage in different Passengers Classes')\n",
    "\n",
    "## It shows that Survival chances did affected by Pclass,class 1 have best chance to survived."
   ]
  },
  {
   "cell_type": "code",
   "execution_count": 140,
   "metadata": {
    "collapsed": false
   },
   "outputs": [
    {
     "data": {
      "text/plain": [
       "Pclass\n",
       "1    62.962963\n",
       "2    47.282609\n",
       "3    24.236253\n",
       "Name: Survived, dtype: float64"
      ]
     },
     "execution_count": 140,
     "metadata": {},
     "output_type": "execute_result"
    }
   ],
   "source": [
    "## Table for the above bar chart\n",
    "df.groupby(['Pclass'])['Survived'].mean()*100"
   ]
  },
  {
   "cell_type": "code",
   "execution_count": 134,
   "metadata": {
    "collapsed": false
   },
   "outputs": [
    {
     "data": {
      "text/plain": [
       "<matplotlib.text.Text at 0x228788d0>"
      ]
     },
     "execution_count": 134,
     "metadata": {},
     "output_type": "execute_result"
    },
    {
     "data": {
      "image/png": "[encoded data removed]",
      "text/plain": [
       "<matplotlib.figure.Figure at 0x2262ac18>"
      ]
     },
     "metadata": {},
     "output_type": "display_data"
    }
   ],
   "source": [
    "## Survive vs Fare\n",
    "\n",
    "a=seaborn.boxplot(x='Survived',y='Fare',data=df)\n",
    "a.set_yscale('log')\n",
    "## Although there is quite a lot outliers, this graph can tell us people who survived had a larger mean and upper quartile than\n",
    "##people who died.\n",
    "plt.title('Distribution of Fare in Survived or dead group')"
   ]
  },
  {
   "cell_type": "code",
   "execution_count": 108,
   "metadata": {
    "collapsed": false
   },
   "outputs": [
    {
     "data": {
      "text/plain": [
       "<matplotlib.text.Text at 0x1e771dd8>"
      ]
     },
     "execution_count": 108,
     "metadata": {},
     "output_type": "execute_result"
    },
    {
     "data": {
      "image/png": "[encoded data removed]",
      "text/plain": [
       "<matplotlib.figure.Figure at 0x1e4e1ef0>"
      ]
     },
     "metadata": {},
     "output_type": "display_data"
    }
   ],
   "source": [
    "plt.bar(df['Pclass'],df['Survived'],alpha=0.002) ### alpha is added and hope to visualize it better\n",
    "### It may improve a little bit that I can see darker color for 3rd class people , however, it is still unclear whether any trend\n",
    "## exist, I will try to express the data in a table rather than a graph.\n",
    "seaborn.barplot(x='Pclass', y=\"Survived\", data=df, estimator=sum,ci=0)\n",
    "plt.ylabel('Number of Survived Passenger')\n",
    "plt.title('Number of Survived Paseenger in different classes')"
   ]
  },
  {
   "cell_type": "code",
   "execution_count": 23,
   "metadata": {
    "collapsed": false
   },
   "outputs": [],
   "source": [
    "## Now I will stick to the relation between Pclass and Survive fist.\n",
    "p1s=0\n",
    "p2s=0\n",
    "p3s=0\n",
    "for pclass, sur in zip(df['Pclass'], df['Survived']):\n",
    "    if pclass==1:\n",
    "        if sur==1:\n",
    "            p1s=p1s+1\n",
    "    if pclass==2:\n",
    "        if sur==1:\n",
    "            p2s=p2s+1\n",
    "    if pclass==3:\n",
    "        if sur==1:\n",
    "            p3s=p3s+1\n",
    "    \n",
    "        \n"
   ]
  },
  {
   "cell_type": "code",
   "execution_count": 26,
   "metadata": {
    "collapsed": false
   },
   "outputs": [
    {
     "name": "stdout",
     "output_type": "stream",
     "text": [
      "Pclass=1 : Survive people: 136\n",
      "Pclass=1 : Survive people: 87\n",
      "Pclass=1 : Survive people: 119\n",
      "Total survived people: 342 342\n"
     ]
    }
   ],
   "source": [
    "print \"Pclass=1 : Survive people:\",p1s\n",
    "print \"Pclass=1 : Survive people:\",p2s\n",
    "print \"Pclass=1 : Survive people:\",p3s\n",
    "print \"Total survived people:\",df['Survived'].sum() ,p1s+p2s+p3s ## To cross check the loop is working good that it does not miss\n",
    "##any survived people."
   ]
  },
  {
   "cell_type": "code",
   "execution_count": 36,
   "metadata": {
    "collapsed": false
   },
   "outputs": [
    {
     "name": "stdout",
     "output_type": "stream",
     "text": [
      "Pclass=1 : Survive people percentage: 0.62962962963\n",
      "Pclass=2: Survive people percentage: 0.472826086957\n",
      "Pclass=3 : Survive people percentage: 0.242362525458\n"
     ]
    }
   ],
   "source": [
    "print \"Pclass=1 : Survive people percentage:\", float(p1s)/(df['Pclass']==1).sum()\n",
    "print \"Pclass=2: Survive people percentage:\", float(p2s)/(df['Pclass']==2).sum()\n",
    "print \"Pclass=3 : Survive people percentage:\", float(p3s)/(df['Pclass']==3).sum()\n",
    "\n",
    "### By showing the survival percentage instead of absolute survival people, it shows the relation of Pclass and Surivived more\n",
    "##clear, it is obvious that people take 3rd class have a much lower survival chance than 1st class people."
   ]
  },
  {
   "cell_type": "code",
   "execution_count": 164,
   "metadata": {
    "collapsed": false
   },
   "outputs": [
    {
     "name": "stdout",
     "output_type": "stream",
     "text": [
      "Survived people: [233  70  19   6   7   4   3]\n",
      "Number of people: [730 108  24   9  11   6   3]\n"
     ]
    },
    {
     "data": {
      "image/png": "[encoded data removed]",
      "text/plain": [
       "<matplotlib.figure.Figure at 0x23b49c88>"
      ]
     },
     "metadata": {},
     "output_type": "display_data"
    }
   ],
   "source": [
    "## Now I will stick to the relation between Fareand Survive fist.\n",
    "fare1=0\n",
    "fare2=0\n",
    "fare3=0\n",
    "fare4=0\n",
    "fare5=0\n",
    "fare6=0\n",
    "fare7=0\n",
    "fare1count=0\n",
    "fare2count=0\n",
    "fare3count=0\n",
    "fare4count=0\n",
    "fare5count=0\n",
    "fare6count=0\n",
    "fare7count=0\n",
    "### This part of code is try to group the data in different bin according to the fare \n",
    "\n",
    "for fare, sur in zip(df['Fare'], df['Survived']):\n",
    "    if fare>=0 and fare<50:\n",
    "        fare1count=fare1count+1\n",
    "        if sur==1:\n",
    "            fare1=fare1+1 ## count the survival number\n",
    "    if fare>=50 and fare<100:\n",
    "        fare2count=fare2count+1\n",
    "        if sur==1:\n",
    "            fare2=fare2+1\n",
    "    if fare>=100 and fare<150:\n",
    "        fare3count=fare3count+1\n",
    "        if sur==1:\n",
    "            fare3=fare3+1\n",
    "    if fare>=150 and fare<200:\n",
    "        fare4count=fare4count+1\n",
    "        if sur==1:\n",
    "            fare4=fare4+1\n",
    "    if fare>=200 and fare<250:\n",
    "        fare5count=fare5count+1\n",
    "        if sur==1:\n",
    "            fare5=fare5+1\n",
    "    if fare>=250 and fare<300:\n",
    "        fare6count=fare6count+1\n",
    "        if sur==1:\n",
    "            fare6=fare6+1\n",
    "    if fare>=300:\n",
    "        fare7count=fare7count+1\n",
    "        if sur==1:\n",
    "            fare7=fare7+1       \n",
    "fare_survive=np.array([fare1 ,fare2, fare3,fare4,fare5,fare6,fare7])\n",
    "fare_total=np.array([fare1count,fare2count,fare3count,fare4count,fare5count,fare6count,fare7count])\n",
    "plt.bar([0,50, 100, 150, 200, 250, 300],(fare_survive).astype(float)/fare_total*100,50)\n",
    "plt.xlabel('Fare')\n",
    "plt.ylabel('Survival Percentage(%)')\n",
    "plt.title('Survival Percentage with different Fare')\n",
    "    \n",
    "        \n",
    "print \"Survived people:\" ,fare_survive\n",
    "print \"Number of people:\",fare_total\n",
    "\n",
    "### After review, I know that I can use better library to save this big part of code, however I will keep it as it still do\n",
    "### the job well and it can remind me don't do this again!!"
   ]
  },
  {
   "cell_type": "code",
   "execution_count": 166,
   "metadata": {
    "collapsed": false
   },
   "outputs": [
    {
     "name": "stdout",
     "output_type": "stream",
     "text": [
      "survive_fare\n",
      "(0, 50]         32.402235\n",
      "(50, 100]       65.420561\n",
      "(100, 150]      79.166667\n",
      "(150, 200]      66.666667\n",
      "(200, 250]      63.636364\n",
      "(250, 300]      66.666667\n",
      "(300, 1000]    100.000000\n",
      "Name: Survived, dtype: float64\n"
     ]
    },
    {
     "data": {
      "text/plain": [
       "<matplotlib.text.Text at 0x24058eb8>"
      ]
     },
     "execution_count": 166,
     "metadata": {},
     "output_type": "execute_result"
    },
    {
     "data": {
      "image/png": "[encoded data removed]",
      "text/plain": [
       "<matplotlib.figure.Figure at 0x23e1b320>"
      ]
     },
     "metadata": {},
     "output_type": "display_data"
    }
   ],
   "source": [
    "## I have learn to use the groupby function, which can do the job much faster\n",
    "df['survive_fare']=pd.cut(df.Fare,bins=[0,50,100,150,200,250,300,1000])\n",
    "print df.groupby(['survive_fare'])['Survived'].mean()*100\n",
    "plt.bar([0 ,50, 100, 150, 200 ,250, 300],df.groupby(['survive_fare'])['Survived'].mean()*100,50)\n",
    "plt.xlabel('Fare')\n",
    "plt.ylabel('Survival Percentage(%)')\n",
    "plt.title('Survival Percentage with different Fare')\n",
    "## Much simpler!!"
   ]
  },
  {
   "cell_type": "markdown",
   "metadata": {
    "collapsed": false
   },
   "source": [
    "## Conclusion\n",
    "\n",
    "Some of the data filled with many missing value , like\"Cabin\" with almost all missing value. In addition, I have no additional information about the Cabin data like what it means for C01 C02, therefore I can not use the data as it does not provide information. Same reason apply on \"Ticket\" data, it would be helpful if I get more information about what is \"113803\" mean.\n",
    "However, for \"Age\", despite the incompleteness of the data, it still can be used as the portion is relatively small.  In addition, I have assume the missing data is random, thus it should not affect the analysis great. However, if it is not the case that some certain group of people missing \"Age\" data, it may lead to inaccurate conclusion.\n",
    "\n",
    "In this project, I found that people sit in 1st class and people who have higher fare have higher chance, it could be explained that those 1st class and people who pay fare have a better position(ie: their seat is near the bow, therefore if the ship sink, they have more time to prepare to get out ). However, it is only correlation not casuation , it may be only by chance, or statisical related, we can not say there are causation between these variable unless we have more physical evidence(ie:if their seat really near the bow and the ships sink with it tail first.) \n",
    "\n",
    "It would be better to explore more variable that affect survival chance, there are many factors that can affect the survival chance. For example, health condition, weight, did people eat too much that they can not escape.\n",
    "\n",
    "It would be interesting if I can make use of variable like\" name\". For example, I may divide people in group base on family name. It that the parent have a higher chance to die as they try to protect their children? However, it is beyond the scope of the project, and it will be interesting if I can do some data transformation and perform machine learning to see which features has the highest importance.\n"
   ]
  },
  {
   "cell_type": "code",
   "execution_count": null,
   "metadata": {
    "collapsed": true
   },
   "outputs": [],
   "source": []
  }
 ],
 "metadata": {
  "anaconda-cloud": {},
  "kernelspec": {
   "display_name": "Python [Root]",
   "language": "python",
   "name": "Python [Root]"
  },
  "language_info": {
   "codemirror_mode": {
    "name": "ipython",
    "version": 2
   },
   "file_extension": ".py",
   "mimetype": "text/x-python",
   "name": "python",
   "nbconvert_exporter": "python",
   "pygments_lexer": "ipython2",
   "version": "2.7.11"
  }
 },
 "nbformat": 4,
 "nbformat_minor": 0
}
